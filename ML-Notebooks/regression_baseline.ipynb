{
 "cells": [
  {
   "metadata": {},
   "cell_type": "code",
   "source": [
    "import numpy as np\n",
    "import pandas as pd\n",
    "import matplotlib.pyplot as plt\n",
    "\n",
    "from sklearn.linear_model import LinearRegression\n",
    "from sklearn.metrics import mean_squared_error"
   ],
   "id": "54a1219be218d140",
   "outputs": [],
   "execution_count": null
  },
  {
   "metadata": {},
   "cell_type": "code",
   "source": [
    "df_full = pd.read_csv('../Data/spy_full.csv')\n",
    "df_month = pd.read_csv('../Data/spy_month.csv')\n",
    "df_week = pd.read_csv('../Data/spy_week.csv')"
   ],
   "id": "e97756fb459fb134",
   "outputs": [],
   "execution_count": null
  },
  {
   "metadata": {},
   "cell_type": "code",
   "source": [
    "df_full['date'] = pd.to_datetime(df_full['date'])\n",
    "df_month['date'] = pd.to_datetime(df_month['date'])\n",
    "df_week['date'] = pd.to_datetime(df_week['date'])\n",
    "start_date = df_full['date'].min()"
   ],
   "id": "c043ad2415338cf0",
   "outputs": [],
   "execution_count": null
  },
  {
   "metadata": {},
   "cell_type": "code",
   "source": [
    "def get_days_since_start(date):\n",
    "    return (date - start_date).days / 100\n",
    "df_full = df_full.assign(index=df_full['date'].apply(get_days_since_start))\n",
    "df_full = (df_full\n",
    "           .assign(index_sq=df_full['index'].apply(lambda x:x**2))\n",
    "           .assign(index_e=df_full['index'].apply(lambda x:np.e**x))\n",
    "           .assign(index_cube=df_full['index'].apply(lambda x:x**3))\n",
    "           )\n",
    "df_month = df_month.assign(index=df_month['date'].apply(get_days_since_start))\n",
    "df_month = (df_month\n",
    "            .assign(index_sq=df_month['index'].apply(lambda x:x**2))\n",
    "            .assign(index_e=df_month['index'].apply(lambda x:np.e**x))\n",
    "            .assign(index_cube=df_month['index'].apply(lambda x:x**3))\n",
    "            )\n",
    "df_week = df_week.assign(index=df_week['date'].apply(get_days_since_start))\n",
    "df_week = (df_week\n",
    "           .assign(index_sq=df_week['index'].apply(lambda x:x**2))\n",
    "           .assign(index_e=df_week['index'].apply(lambda x:np.e**x))\n",
    "           .assign(index_cube=df_week['index'].apply(lambda x:x**3))\n",
    "           )"
   ],
   "id": "ec3caf77c044c7a8",
   "outputs": [],
   "execution_count": null
  },
  {
   "metadata": {},
   "cell_type": "code",
   "source": [
    "poly = LinearRegression().fit(df_month[['index_sq']], df_month['close_price'])\n",
    "expo = LinearRegression().fit(df_week[['index_e']], df_week['close_price'])"
   ],
   "id": "97453ee075aba8f1",
   "outputs": [],
   "execution_count": null
  },
  {
   "metadata": {},
   "cell_type": "code",
   "source": [
    "df_month_test = df_full[~df_full['date'].isin(df_month['date'])]\n",
    "poly_month_test = poly.predict(df_month_test[['index_sq']])\n",
    "expo_month_test = expo.predict(df_month_test[['index_e']])\n",
    "poly_month_mse = mean_squared_error(df_month_test['close_price'], poly_month_test)\n",
    "expo_month_mse = mean_squared_error(df_month_test['close_price'], expo_month_test)\n",
    "print(f'Poly MSE: {poly_month_mse}\\n'\n",
    "      f'Expo MSE: {expo_month_mse}')"
   ],
   "id": "54d0d3029636d4f2",
   "outputs": [],
   "execution_count": null
  },
  {
   "metadata": {},
   "cell_type": "code",
   "source": [
    "df_week_test = df_full[~df_full['date'].isin(df_week['date'])]\n",
    "poly_week_test = poly.predict(df_week_test[['index_sq']])\n",
    "expo_week_test = expo.predict(df_week_test[['index_e']])\n",
    "poly_week_mse = mean_squared_error(df_week_test['close_price'], poly_week_test)\n",
    "expo_week_mse = mean_squared_error(df_week_test['close_price'], expo_week_test)\n",
    "print(f'Poly MSE: {poly_week_mse}\\n'\n",
    "      f'Expo MSE: {expo_week_mse}')"
   ],
   "id": "c98028cc1fe7c8a1",
   "outputs": [],
   "execution_count": null
  },
  {
   "metadata": {},
   "cell_type": "code",
   "source": [
    "plt.plot(df_month_test['index'],df_month_test['close_price'],label='actual')\n",
    "plt.plot(df_month_test['index'],poly_month_test,label='polynomial')\n",
    "plt.plot(df_month_test['index'],expo_month_test,label='exponential')\n",
    "plt.legend()\n",
    "plt.show()"
   ],
   "id": "8c3d4d9348f3b25",
   "outputs": [],
   "execution_count": null
  },
  {
   "metadata": {},
   "cell_type": "code",
   "source": [
    "poly_2 = poly\n",
    "poly_3 = LinearRegression().fit(df_month[['index_cube']], df_month['close_price'])\n",
    "poly_2_3 = LinearRegression().fit(df_month[['index_sq','index_cube']],df_month['close_price'])\n",
    "poly_3_test = poly_3.predict(df_month_test[['index_cube']])\n",
    "poly_2_3_test = poly_2_3.predict(df_month_test[['index_sq','index_cube']])\n",
    "poly_3_mse = mean_squared_error(df_month_test['close_price'], poly_3_test)\n",
    "poly_2_3_mse = mean_squared_error(df_month_test['close_price'], poly_2_3_test)\n",
    "print(f'Poly squared MSE: {poly_month_mse}\\n'\n",
    "      f'Poly cubed MSE: {poly_3_mse}\\n'\n",
    "      f'Poly squared+cubed MSE: {poly_2_3_mse}')"
   ],
   "id": "c1be574d325c19a6",
   "outputs": [],
   "execution_count": null
  },
  {
   "metadata": {},
   "cell_type": "code",
   "source": [
    "plt.plot(df_month_test['index'],df_month_test['close_price'],label='actual')\n",
    "plt.plot(df_month_test['index'],poly_month_test,label='squared')\n",
    "plt.plot(df_month_test['index'],poly_3_test,label='cubed')\n",
    "plt.plot(df_month_test['index'],poly_2_3_test,label='squared+cubed')\n",
    "plt.legend()\n",
    "plt.show()"
   ],
   "id": "fd67d5b4af8a3ad9",
   "outputs": [],
   "execution_count": null
  },
  {
   "metadata": {},
   "cell_type": "code",
   "source": [
    "future_days = [*range(24000)]\n",
    "future_days = np.array(list(map(lambda x:x/100, future_days))).reshape(-1,1)\n",
    "X = pd.DataFrame(future_days,columns=['index'])\n",
    "X = (X\n",
    "    .assign(index_sq=X['index'].apply(lambda x:x**2))\n",
    "    .assign(index_cube=X['index'].apply(lambda x:x**3))\n",
    "    )"
   ],
   "id": "f161dea6a393bbba",
   "outputs": [],
   "execution_count": null
  },
  {
   "metadata": {},
   "cell_type": "code",
   "source": [
    "poly_2_future = poly_2.predict(X[['index_sq']])\n",
    "poly_3_future = poly_3.predict(X[['index_cube']])\n",
    "poly_2_3_future = poly_2_3.predict(X[['index_sq','index_cube']])\n",
    "print(f'Squared predicted value: {poly_2_future[-1]:.0f}\\n'\n",
    "      f'Cubed predicted value: {poly_3_future[-1]:.0f}\\n'\n",
    "      f'Squared+cubed predicted value: {poly_2_3_future[-1]:.0f}')"
   ],
   "id": "1e2b4cc15bbaf430",
   "outputs": [],
   "execution_count": null
  },
  {
   "metadata": {},
   "cell_type": "code",
   "source": [
    "plt.plot(df_month_test['index'],df_month_test['close_price'],label='actual')\n",
    "plt.plot(future_days,poly_2_future,label='squared')\n",
    "plt.plot(future_days,poly_3_future,label='cubed')\n",
    "plt.plot(future_days,poly_2_3_future,label='squared+cubed')\n",
    "plt.legend()\n",
    "plt.show()"
   ],
   "id": "72c01996c9190fa",
   "outputs": [],
   "execution_count": null
  }
 ],
 "metadata": {
  "kernelspec": {
   "display_name": "Python 3",
   "language": "python",
   "name": "python3"
  },
  "language_info": {
   "codemirror_mode": {
    "name": "ipython",
    "version": 2
   },
   "file_extension": ".py",
   "mimetype": "text/x-python",
   "name": "python",
   "nbconvert_exporter": "python",
   "pygments_lexer": "ipython2",
   "version": "2.7.6"
  }
 },
 "nbformat": 4,
 "nbformat_minor": 5
}
