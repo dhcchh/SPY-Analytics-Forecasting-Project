{
 "cells": [
  {
   "metadata": {
    "ExecuteTime": {
     "end_time": "2024-12-07T06:14:03.072708Z",
     "start_time": "2024-12-07T06:13:57.354751Z"
    }
   },
   "cell_type": "code",
   "source": [
    "import numpy as np\n",
    "import pandas as pd\n",
    "\n",
    "from sklearn.linear_model import LinearRegression\n",
    "from sklearn.metrics import mean_squared_error"
   ],
   "id": "54a1219be218d140",
   "outputs": [],
   "execution_count": 1
  },
  {
   "metadata": {
    "ExecuteTime": {
     "end_time": "2024-12-07T06:16:17.352910Z",
     "start_time": "2024-12-07T06:16:17.131913Z"
    }
   },
   "cell_type": "code",
   "source": [
    "df_full = pd.read_csv('../Data/spy_full.csv')\n",
    "df_month = pd.read_csv('../Data/spy_month.csv')\n",
    "df_week = pd.read_csv('../Data/spy_week.csv')"
   ],
   "id": "e97756fb459fb134",
   "outputs": [],
   "execution_count": 2
  },
  {
   "metadata": {
    "ExecuteTime": {
     "end_time": "2024-12-07T06:16:17.971889Z",
     "start_time": "2024-12-07T06:16:17.925894Z"
    }
   },
   "cell_type": "code",
   "source": [
    "df_full['date'] = pd.to_datetime(df_full['date'])\n",
    "df_month['date'] = pd.to_datetime(df_month['date'])\n",
    "df_week['date'] = pd.to_datetime(df_week['date'])\n",
    "start_date = df_full['date'].min()"
   ],
   "id": "c043ad2415338cf0",
   "outputs": [],
   "execution_count": 3
  },
  {
   "metadata": {
    "ExecuteTime": {
     "end_time": "2024-12-07T06:17:10.449351Z",
     "start_time": "2024-12-07T06:17:10.421350Z"
    }
   },
   "cell_type": "code",
   "source": [
    "def get_days_since_start(date):\n",
    "    return (date - start_date).days\n",
    "df_month = df_month.assign(index=df_month['date'].apply(get_days_since_start))\n",
    "df_month = (df_month\n",
    "            .assign(index_sq=df_month['index'].apply(lambda x:x**2))\n",
    "            .assign(index_log=df_month['index'].apply(lambda x:np.log(x)))\n",
    "            )\n",
    "df_week = df_week.assign(index=df_week['date'].apply(get_days_since_start))\n",
    "df_week = (df_week\n",
    "           .assign(index_sq=df_week['index'].apply(lambda x:x**2))\n",
    "           .assign(index_log=df_week['index'].apply(lambda x:np.log(x)))\n",
    "           )"
   ],
   "id": "ec3caf77c044c7a8",
   "outputs": [],
   "execution_count": 5
  },
  {
   "metadata": {
    "ExecuteTime": {
     "end_time": "2024-12-07T06:54:41.450397Z",
     "start_time": "2024-12-07T06:54:41.342117Z"
    }
   },
   "cell_type": "code",
   "source": [
    "poly = LinearRegression().fit(df_month[['index_sq']], df_month['close_price'])\n",
    "expo = LinearRegression().fit(df_week[['index_log']], df_week['close_price'])"
   ],
   "id": "97453ee075aba8f1",
   "outputs": [],
   "execution_count": 12
  }
 ],
 "metadata": {
  "kernelspec": {
   "display_name": "Python 3",
   "language": "python",
   "name": "python3"
  },
  "language_info": {
   "codemirror_mode": {
    "name": "ipython",
    "version": 2
   },
   "file_extension": ".py",
   "mimetype": "text/x-python",
   "name": "python",
   "nbconvert_exporter": "python",
   "pygments_lexer": "ipython2",
   "version": "2.7.6"
  }
 },
 "nbformat": 4,
 "nbformat_minor": 5
}
