{
 "cells": [
  {
   "cell_type": "code",
   "execution_count": 2,
   "id": "146c54f9-8cbe-4d22-92f2-0cc9956db186",
   "metadata": {
    "execution": {
     "iopub.execute_input": "2025-01-02T10:25:22.933230Z",
     "iopub.status.busy": "2025-01-02T10:25:22.933230Z",
     "iopub.status.idle": "2025-01-02T10:25:23.248239Z",
     "shell.execute_reply": "2025-01-02T10:25:23.248239Z",
     "shell.execute_reply.started": "2025-01-02T10:25:22.933230Z"
    }
   },
   "outputs": [],
   "source": [
    "import pandas as pd \n",
    "import numpy as np \n",
    "from datetime import datetime, timedelta\n",
    "import matplotlib.pyplot as plt"
   ]
  },
  {
   "cell_type": "code",
   "execution_count": 3,
   "id": "18fbaf4d-822b-4c5f-b87c-106fd9a6e659",
   "metadata": {
    "execution": {
     "iopub.execute_input": "2025-01-02T10:25:23.248239Z",
     "iopub.status.busy": "2025-01-02T10:25:23.248239Z",
     "iopub.status.idle": "2025-01-02T10:25:23.263156Z",
     "shell.execute_reply": "2025-01-02T10:25:23.263156Z",
     "shell.execute_reply.started": "2025-01-02T10:25:23.248239Z"
    }
   },
   "outputs": [],
   "source": [
    "lstm = pd.read_csv('lstm_forecast.csv')\n",
    "mc = pd.read_csv('montecarlo_forecast.csv')\n",
    "prophet = pd.read_csv('prophet_forecast.csv')"
   ]
  },
  {
   "cell_type": "code",
   "execution_count": 4,
   "id": "76302586-b3a6-4129-9d30-0969e2c7b8bd",
   "metadata": {
    "execution": {
     "iopub.execute_input": "2025-01-02T10:25:23.263661Z",
     "iopub.status.busy": "2025-01-02T10:25:23.263661Z",
     "iopub.status.idle": "2025-01-02T10:25:23.271239Z",
     "shell.execute_reply": "2025-01-02T10:25:23.271239Z",
     "shell.execute_reply.started": "2025-01-02T10:25:23.263661Z"
    }
   },
   "outputs": [
    {
     "data": {
      "text/html": [
       "<div>\n",
       "<style scoped>\n",
       "    .dataframe tbody tr th:only-of-type {\n",
       "        vertical-align: middle;\n",
       "    }\n",
       "\n",
       "    .dataframe tbody tr th {\n",
       "        vertical-align: top;\n",
       "    }\n",
       "\n",
       "    .dataframe thead th {\n",
       "        text-align: right;\n",
       "    }\n",
       "</style>\n",
       "<table border=\"1\" class=\"dataframe\">\n",
       "  <thead>\n",
       "    <tr style=\"text-align: right;\">\n",
       "      <th></th>\n",
       "      <th>date</th>\n",
       "      <th>forecast</th>\n",
       "    </tr>\n",
       "  </thead>\n",
       "  <tbody>\n",
       "    <tr>\n",
       "      <th>0</th>\n",
       "      <td>2025-01-01</td>\n",
       "      <td>589.89</td>\n",
       "    </tr>\n",
       "    <tr>\n",
       "      <th>1</th>\n",
       "      <td>2025-02-01</td>\n",
       "      <td>592.77</td>\n",
       "    </tr>\n",
       "    <tr>\n",
       "      <th>2</th>\n",
       "      <td>2025-03-01</td>\n",
       "      <td>596.77</td>\n",
       "    </tr>\n",
       "    <tr>\n",
       "      <th>3</th>\n",
       "      <td>2025-04-01</td>\n",
       "      <td>602.23</td>\n",
       "    </tr>\n",
       "    <tr>\n",
       "      <th>4</th>\n",
       "      <td>2025-05-01</td>\n",
       "      <td>607.70</td>\n",
       "    </tr>\n",
       "    <tr>\n",
       "      <th>...</th>\n",
       "      <td>...</td>\n",
       "      <td>...</td>\n",
       "    </tr>\n",
       "    <tr>\n",
       "      <th>235</th>\n",
       "      <td>2044-08-01</td>\n",
       "      <td>3542.59</td>\n",
       "    </tr>\n",
       "    <tr>\n",
       "      <th>236</th>\n",
       "      <td>2044-09-01</td>\n",
       "      <td>3569.03</td>\n",
       "    </tr>\n",
       "    <tr>\n",
       "      <th>237</th>\n",
       "      <td>2044-10-01</td>\n",
       "      <td>3596.56</td>\n",
       "    </tr>\n",
       "    <tr>\n",
       "      <th>238</th>\n",
       "      <td>2044-11-01</td>\n",
       "      <td>3624.85</td>\n",
       "    </tr>\n",
       "    <tr>\n",
       "      <th>239</th>\n",
       "      <td>2044-12-01</td>\n",
       "      <td>3653.68</td>\n",
       "    </tr>\n",
       "  </tbody>\n",
       "</table>\n",
       "<p>240 rows × 2 columns</p>\n",
       "</div>"
      ],
      "text/plain": [
       "           date  forecast\n",
       "0    2025-01-01    589.89\n",
       "1    2025-02-01    592.77\n",
       "2    2025-03-01    596.77\n",
       "3    2025-04-01    602.23\n",
       "4    2025-05-01    607.70\n",
       "..          ...       ...\n",
       "235  2044-08-01   3542.59\n",
       "236  2044-09-01   3569.03\n",
       "237  2044-10-01   3596.56\n",
       "238  2044-11-01   3624.85\n",
       "239  2044-12-01   3653.68\n",
       "\n",
       "[240 rows x 2 columns]"
      ]
     },
     "execution_count": 4,
     "metadata": {},
     "output_type": "execute_result"
    }
   ],
   "source": [
    "lstm"
   ]
  },
  {
   "cell_type": "code",
   "execution_count": 5,
   "id": "122c333e-a914-4bd1-b638-003467e87e9f",
   "metadata": {
    "execution": {
     "iopub.execute_input": "2025-01-02T10:25:23.272285Z",
     "iopub.status.busy": "2025-01-02T10:25:23.272285Z",
     "iopub.status.idle": "2025-01-02T10:25:23.277652Z",
     "shell.execute_reply": "2025-01-02T10:25:23.277652Z",
     "shell.execute_reply.started": "2025-01-02T10:25:23.272285Z"
    }
   },
   "outputs": [
    {
     "data": {
      "text/html": [
       "<div>\n",
       "<style scoped>\n",
       "    .dataframe tbody tr th:only-of-type {\n",
       "        vertical-align: middle;\n",
       "    }\n",
       "\n",
       "    .dataframe tbody tr th {\n",
       "        vertical-align: top;\n",
       "    }\n",
       "\n",
       "    .dataframe thead th {\n",
       "        text-align: right;\n",
       "    }\n",
       "</style>\n",
       "<table border=\"1\" class=\"dataframe\">\n",
       "  <thead>\n",
       "    <tr style=\"text-align: right;\">\n",
       "      <th></th>\n",
       "      <th>date</th>\n",
       "      <th>forecast</th>\n",
       "    </tr>\n",
       "  </thead>\n",
       "  <tbody>\n",
       "    <tr>\n",
       "      <th>0</th>\n",
       "      <td>2024-12-06</td>\n",
       "      <td>604.546393</td>\n",
       "    </tr>\n",
       "    <tr>\n",
       "      <th>1</th>\n",
       "      <td>2024-12-07</td>\n",
       "      <td>605.701996</td>\n",
       "    </tr>\n",
       "    <tr>\n",
       "      <th>2</th>\n",
       "      <td>2024-12-08</td>\n",
       "      <td>607.023765</td>\n",
       "    </tr>\n",
       "    <tr>\n",
       "      <th>3</th>\n",
       "      <td>2024-12-09</td>\n",
       "      <td>606.507524</td>\n",
       "    </tr>\n",
       "    <tr>\n",
       "      <th>4</th>\n",
       "      <td>2024-12-10</td>\n",
       "      <td>606.604195</td>\n",
       "    </tr>\n",
       "    <tr>\n",
       "      <th>...</th>\n",
       "      <td>...</td>\n",
       "      <td>...</td>\n",
       "    </tr>\n",
       "    <tr>\n",
       "      <th>7295</th>\n",
       "      <td>2044-11-26</td>\n",
       "      <td>2416.756437</td>\n",
       "    </tr>\n",
       "    <tr>\n",
       "      <th>7296</th>\n",
       "      <td>2044-11-27</td>\n",
       "      <td>2430.716425</td>\n",
       "    </tr>\n",
       "    <tr>\n",
       "      <th>7297</th>\n",
       "      <td>2044-11-28</td>\n",
       "      <td>2438.473306</td>\n",
       "    </tr>\n",
       "    <tr>\n",
       "      <th>7298</th>\n",
       "      <td>2044-11-29</td>\n",
       "      <td>2425.305656</td>\n",
       "    </tr>\n",
       "    <tr>\n",
       "      <th>7299</th>\n",
       "      <td>2044-11-30</td>\n",
       "      <td>2421.217994</td>\n",
       "    </tr>\n",
       "  </tbody>\n",
       "</table>\n",
       "<p>7300 rows × 2 columns</p>\n",
       "</div>"
      ],
      "text/plain": [
       "            date     forecast\n",
       "0     2024-12-06   604.546393\n",
       "1     2024-12-07   605.701996\n",
       "2     2024-12-08   607.023765\n",
       "3     2024-12-09   606.507524\n",
       "4     2024-12-10   606.604195\n",
       "...          ...          ...\n",
       "7295  2044-11-26  2416.756437\n",
       "7296  2044-11-27  2430.716425\n",
       "7297  2044-11-28  2438.473306\n",
       "7298  2044-11-29  2425.305656\n",
       "7299  2044-11-30  2421.217994\n",
       "\n",
       "[7300 rows x 2 columns]"
      ]
     },
     "execution_count": 5,
     "metadata": {},
     "output_type": "execute_result"
    }
   ],
   "source": [
    "mc"
   ]
  },
  {
   "cell_type": "code",
   "execution_count": 6,
   "id": "ae609f8a-bcaa-40ba-997b-2705465b3881",
   "metadata": {
    "execution": {
     "iopub.execute_input": "2025-01-02T10:25:23.277652Z",
     "iopub.status.busy": "2025-01-02T10:25:23.277652Z",
     "iopub.status.idle": "2025-01-02T10:25:23.283131Z",
     "shell.execute_reply": "2025-01-02T10:25:23.283131Z",
     "shell.execute_reply.started": "2025-01-02T10:25:23.277652Z"
    }
   },
   "outputs": [
    {
     "data": {
      "text/html": [
       "<div>\n",
       "<style scoped>\n",
       "    .dataframe tbody tr th:only-of-type {\n",
       "        vertical-align: middle;\n",
       "    }\n",
       "\n",
       "    .dataframe tbody tr th {\n",
       "        vertical-align: top;\n",
       "    }\n",
       "\n",
       "    .dataframe thead th {\n",
       "        text-align: right;\n",
       "    }\n",
       "</style>\n",
       "<table border=\"1\" class=\"dataframe\">\n",
       "  <thead>\n",
       "    <tr style=\"text-align: right;\">\n",
       "      <th></th>\n",
       "      <th>date</th>\n",
       "      <th>forecast</th>\n",
       "    </tr>\n",
       "  </thead>\n",
       "  <tbody>\n",
       "    <tr>\n",
       "      <th>0</th>\n",
       "      <td>2025-01-01</td>\n",
       "      <td>526.168713</td>\n",
       "    </tr>\n",
       "    <tr>\n",
       "      <th>1</th>\n",
       "      <td>2025-01-02</td>\n",
       "      <td>526.322720</td>\n",
       "    </tr>\n",
       "    <tr>\n",
       "      <th>2</th>\n",
       "      <td>2025-01-03</td>\n",
       "      <td>526.495145</td>\n",
       "    </tr>\n",
       "    <tr>\n",
       "      <th>3</th>\n",
       "      <td>2025-01-04</td>\n",
       "      <td>527.366980</td>\n",
       "    </tr>\n",
       "    <tr>\n",
       "      <th>4</th>\n",
       "      <td>2025-01-05</td>\n",
       "      <td>527.519496</td>\n",
       "    </tr>\n",
       "    <tr>\n",
       "      <th>...</th>\n",
       "      <td>...</td>\n",
       "      <td>...</td>\n",
       "    </tr>\n",
       "    <tr>\n",
       "      <th>7268</th>\n",
       "      <td>2044-11-25</td>\n",
       "      <td>1429.648352</td>\n",
       "    </tr>\n",
       "    <tr>\n",
       "      <th>7269</th>\n",
       "      <td>2044-11-26</td>\n",
       "      <td>1430.427694</td>\n",
       "    </tr>\n",
       "    <tr>\n",
       "      <th>7270</th>\n",
       "      <td>2044-11-27</td>\n",
       "      <td>1430.481839</td>\n",
       "    </tr>\n",
       "    <tr>\n",
       "      <th>7271</th>\n",
       "      <td>2044-11-28</td>\n",
       "      <td>1429.946874</td>\n",
       "    </tr>\n",
       "    <tr>\n",
       "      <th>7272</th>\n",
       "      <td>2044-11-29</td>\n",
       "      <td>1429.920101</td>\n",
       "    </tr>\n",
       "  </tbody>\n",
       "</table>\n",
       "<p>7273 rows × 2 columns</p>\n",
       "</div>"
      ],
      "text/plain": [
       "            date     forecast\n",
       "0     2025-01-01   526.168713\n",
       "1     2025-01-02   526.322720\n",
       "2     2025-01-03   526.495145\n",
       "3     2025-01-04   527.366980\n",
       "4     2025-01-05   527.519496\n",
       "...          ...          ...\n",
       "7268  2044-11-25  1429.648352\n",
       "7269  2044-11-26  1430.427694\n",
       "7270  2044-11-27  1430.481839\n",
       "7271  2044-11-28  1429.946874\n",
       "7272  2044-11-29  1429.920101\n",
       "\n",
       "[7273 rows x 2 columns]"
      ]
     },
     "execution_count": 6,
     "metadata": {},
     "output_type": "execute_result"
    }
   ],
   "source": [
    "prophet"
   ]
  },
  {
   "cell_type": "code",
   "execution_count": 7,
   "id": "2eca4654-6a92-4491-821f-6d85625a7a0e",
   "metadata": {
    "execution": {
     "iopub.execute_input": "2025-01-02T10:25:23.284155Z",
     "iopub.status.busy": "2025-01-02T10:25:23.284155Z",
     "iopub.status.idle": "2025-01-02T10:25:23.293366Z",
     "shell.execute_reply": "2025-01-02T10:25:23.293366Z",
     "shell.execute_reply.started": "2025-01-02T10:25:23.284155Z"
    }
   },
   "outputs": [
    {
     "data": {
      "text/html": [
       "<div>\n",
       "<style scoped>\n",
       "    .dataframe tbody tr th:only-of-type {\n",
       "        vertical-align: middle;\n",
       "    }\n",
       "\n",
       "    .dataframe tbody tr th {\n",
       "        vertical-align: top;\n",
       "    }\n",
       "\n",
       "    .dataframe thead th {\n",
       "        text-align: right;\n",
       "    }\n",
       "</style>\n",
       "<table border=\"1\" class=\"dataframe\">\n",
       "  <thead>\n",
       "    <tr style=\"text-align: right;\">\n",
       "      <th></th>\n",
       "      <th>date</th>\n",
       "      <th>forecast_x</th>\n",
       "      <th>forecast_y</th>\n",
       "      <th>forecast</th>\n",
       "    </tr>\n",
       "  </thead>\n",
       "  <tbody>\n",
       "    <tr>\n",
       "      <th>0</th>\n",
       "      <td>2025-01-01</td>\n",
       "      <td>589.89</td>\n",
       "      <td>526.168713</td>\n",
       "      <td>615.060052</td>\n",
       "    </tr>\n",
       "    <tr>\n",
       "      <th>1</th>\n",
       "      <td>2025-02-01</td>\n",
       "      <td>592.77</td>\n",
       "      <td>530.369617</td>\n",
       "      <td>630.173030</td>\n",
       "    </tr>\n",
       "    <tr>\n",
       "      <th>2</th>\n",
       "      <td>2025-03-01</td>\n",
       "      <td>596.77</td>\n",
       "      <td>532.798527</td>\n",
       "      <td>635.592815</td>\n",
       "    </tr>\n",
       "    <tr>\n",
       "      <th>3</th>\n",
       "      <td>2025-04-01</td>\n",
       "      <td>602.23</td>\n",
       "      <td>536.329760</td>\n",
       "      <td>628.693135</td>\n",
       "    </tr>\n",
       "    <tr>\n",
       "      <th>4</th>\n",
       "      <td>2025-05-01</td>\n",
       "      <td>607.70</td>\n",
       "      <td>540.241387</td>\n",
       "      <td>624.216376</td>\n",
       "    </tr>\n",
       "    <tr>\n",
       "      <th>...</th>\n",
       "      <td>...</td>\n",
       "      <td>...</td>\n",
       "      <td>...</td>\n",
       "      <td>...</td>\n",
       "    </tr>\n",
       "    <tr>\n",
       "      <th>234</th>\n",
       "      <td>2044-07-01</td>\n",
       "      <td>3516.17</td>\n",
       "      <td>1409.629838</td>\n",
       "      <td>2369.507186</td>\n",
       "    </tr>\n",
       "    <tr>\n",
       "      <th>235</th>\n",
       "      <td>2044-08-01</td>\n",
       "      <td>3542.59</td>\n",
       "      <td>1414.732165</td>\n",
       "      <td>2338.838163</td>\n",
       "    </tr>\n",
       "    <tr>\n",
       "      <th>236</th>\n",
       "      <td>2044-09-01</td>\n",
       "      <td>3569.03</td>\n",
       "      <td>1418.207980</td>\n",
       "      <td>2345.894426</td>\n",
       "    </tr>\n",
       "    <tr>\n",
       "      <th>237</th>\n",
       "      <td>2044-10-01</td>\n",
       "      <td>3596.56</td>\n",
       "      <td>1419.334897</td>\n",
       "      <td>2356.153025</td>\n",
       "    </tr>\n",
       "    <tr>\n",
       "      <th>238</th>\n",
       "      <td>2044-11-01</td>\n",
       "      <td>3624.85</td>\n",
       "      <td>1423.897234</td>\n",
       "      <td>2367.864326</td>\n",
       "    </tr>\n",
       "  </tbody>\n",
       "</table>\n",
       "<p>239 rows × 4 columns</p>\n",
       "</div>"
      ],
      "text/plain": [
       "           date  forecast_x   forecast_y     forecast\n",
       "0    2025-01-01      589.89   526.168713   615.060052\n",
       "1    2025-02-01      592.77   530.369617   630.173030\n",
       "2    2025-03-01      596.77   532.798527   635.592815\n",
       "3    2025-04-01      602.23   536.329760   628.693135\n",
       "4    2025-05-01      607.70   540.241387   624.216376\n",
       "..          ...         ...          ...          ...\n",
       "234  2044-07-01     3516.17  1409.629838  2369.507186\n",
       "235  2044-08-01     3542.59  1414.732165  2338.838163\n",
       "236  2044-09-01     3569.03  1418.207980  2345.894426\n",
       "237  2044-10-01     3596.56  1419.334897  2356.153025\n",
       "238  2044-11-01     3624.85  1423.897234  2367.864326\n",
       "\n",
       "[239 rows x 4 columns]"
      ]
     },
     "execution_count": 7,
     "metadata": {},
     "output_type": "execute_result"
    }
   ],
   "source": [
    "intm  = lstm.merge(prophet, how='inner', left_on = 'date', right_on = 'date')\n",
    "final = intm.merge(mc, how='inner', left_on = 'date', right_on = 'date')\n",
    "final"
   ]
  },
  {
   "cell_type": "code",
   "execution_count": 8,
   "id": "b25e8c34-e238-48b9-b095-af4558741183",
   "metadata": {
    "execution": {
     "iopub.execute_input": "2025-01-02T10:25:23.295376Z",
     "iopub.status.busy": "2025-01-02T10:25:23.294373Z",
     "iopub.status.idle": "2025-01-02T10:25:23.299543Z",
     "shell.execute_reply": "2025-01-02T10:25:23.299543Z",
     "shell.execute_reply.started": "2025-01-02T10:25:23.295376Z"
    }
   },
   "outputs": [],
   "source": [
    "final['forecast'] = 1/3 * (final['forecast'] + final['forecast_x'] + final['forecast_y'])\n",
    "final.drop(columns=['forecast_x', 'forecast_y'], inplace = True)\n",
    "final['date'] = pd.to_datetime(final['date'])"
   ]
  },
  {
   "cell_type": "code",
   "execution_count": 9,
   "id": "abd9e511-cc09-4154-8345-ac6792f34c77",
   "metadata": {
    "execution": {
     "iopub.execute_input": "2025-01-02T10:25:23.299543Z",
     "iopub.status.busy": "2025-01-02T10:25:23.299543Z",
     "iopub.status.idle": "2025-01-02T10:25:23.305189Z",
     "shell.execute_reply": "2025-01-02T10:25:23.305189Z",
     "shell.execute_reply.started": "2025-01-02T10:25:23.299543Z"
    }
   },
   "outputs": [
    {
     "data": {
      "text/html": [
       "<div>\n",
       "<style scoped>\n",
       "    .dataframe tbody tr th:only-of-type {\n",
       "        vertical-align: middle;\n",
       "    }\n",
       "\n",
       "    .dataframe tbody tr th {\n",
       "        vertical-align: top;\n",
       "    }\n",
       "\n",
       "    .dataframe thead th {\n",
       "        text-align: right;\n",
       "    }\n",
       "</style>\n",
       "<table border=\"1\" class=\"dataframe\">\n",
       "  <thead>\n",
       "    <tr style=\"text-align: right;\">\n",
       "      <th></th>\n",
       "      <th>date</th>\n",
       "      <th>forecast</th>\n",
       "    </tr>\n",
       "  </thead>\n",
       "  <tbody>\n",
       "    <tr>\n",
       "      <th>0</th>\n",
       "      <td>2025-01-01</td>\n",
       "      <td>577.039589</td>\n",
       "    </tr>\n",
       "    <tr>\n",
       "      <th>1</th>\n",
       "      <td>2025-02-01</td>\n",
       "      <td>584.437549</td>\n",
       "    </tr>\n",
       "    <tr>\n",
       "      <th>2</th>\n",
       "      <td>2025-03-01</td>\n",
       "      <td>588.387114</td>\n",
       "    </tr>\n",
       "    <tr>\n",
       "      <th>3</th>\n",
       "      <td>2025-04-01</td>\n",
       "      <td>589.084298</td>\n",
       "    </tr>\n",
       "    <tr>\n",
       "      <th>4</th>\n",
       "      <td>2025-05-01</td>\n",
       "      <td>590.719254</td>\n",
       "    </tr>\n",
       "    <tr>\n",
       "      <th>...</th>\n",
       "      <td>...</td>\n",
       "      <td>...</td>\n",
       "    </tr>\n",
       "    <tr>\n",
       "      <th>234</th>\n",
       "      <td>2044-07-01</td>\n",
       "      <td>2431.769008</td>\n",
       "    </tr>\n",
       "    <tr>\n",
       "      <th>235</th>\n",
       "      <td>2044-08-01</td>\n",
       "      <td>2432.053443</td>\n",
       "    </tr>\n",
       "    <tr>\n",
       "      <th>236</th>\n",
       "      <td>2044-09-01</td>\n",
       "      <td>2444.377469</td>\n",
       "    </tr>\n",
       "    <tr>\n",
       "      <th>237</th>\n",
       "      <td>2044-10-01</td>\n",
       "      <td>2457.349307</td>\n",
       "    </tr>\n",
       "    <tr>\n",
       "      <th>238</th>\n",
       "      <td>2044-11-01</td>\n",
       "      <td>2472.203853</td>\n",
       "    </tr>\n",
       "  </tbody>\n",
       "</table>\n",
       "<p>239 rows × 2 columns</p>\n",
       "</div>"
      ],
      "text/plain": [
       "          date     forecast\n",
       "0   2025-01-01   577.039589\n",
       "1   2025-02-01   584.437549\n",
       "2   2025-03-01   588.387114\n",
       "3   2025-04-01   589.084298\n",
       "4   2025-05-01   590.719254\n",
       "..         ...          ...\n",
       "234 2044-07-01  2431.769008\n",
       "235 2044-08-01  2432.053443\n",
       "236 2044-09-01  2444.377469\n",
       "237 2044-10-01  2457.349307\n",
       "238 2044-11-01  2472.203853\n",
       "\n",
       "[239 rows x 2 columns]"
      ]
     },
     "execution_count": 9,
     "metadata": {},
     "output_type": "execute_result"
    }
   ],
   "source": [
    "final"
   ]
  },
  {
   "cell_type": "code",
   "execution_count": 30,
   "id": "0b2eca9f-3761-4fc3-a57a-d2c616bb5b44",
   "metadata": {
    "execution": {
     "iopub.execute_input": "2025-01-02T10:28:36.354280Z",
     "iopub.status.busy": "2025-01-02T10:28:36.353278Z",
     "iopub.status.idle": "2025-01-02T10:28:36.359153Z",
     "shell.execute_reply": "2025-01-02T10:28:36.359153Z",
     "shell.execute_reply.started": "2025-01-02T10:28:36.354280Z"
    }
   },
   "outputs": [
    {
     "name": "stdout",
     "output_type": "stream",
     "text": [
      "Portfolio Value in December 2044 (Single Investment): $42,842.88\n"
     ]
    }
   ],
   "source": [
    "initial_investment = 10_000\n",
    "\n",
    "invspy_single = [initial_investment]\n",
    "\n",
    "for i in range(1, len(final)):\n",
    "    growth_factor = final['forecast'].iloc[i] / final['forecast'].iloc[i - 1]\n",
    "    new_value = invspy_single[-1] * growth_factor\n",
    "    invspy_single.append(new_value)\n",
    "\n",
    "final_portfolio_value_single = invspy_single[-1]\n",
    "\n",
    "print(f\"Portfolio Value in December 2044 (Single Investment): ${final_portfolio_value_single:,.2f}\")"
   ]
  },
  {
   "cell_type": "code",
   "execution_count": 11,
   "id": "861e67d2-f994-4351-8d72-5f75867622f8",
   "metadata": {
    "execution": {
     "iopub.execute_input": "2025-01-02T10:25:23.311987Z",
     "iopub.status.busy": "2025-01-02T10:25:23.311987Z",
     "iopub.status.idle": "2025-01-02T10:25:23.450274Z",
     "shell.execute_reply": "2025-01-02T10:25:23.450274Z",
     "shell.execute_reply.started": "2025-01-02T10:25:23.311987Z"
    }
   },
   "outputs": [
    {
     "data": {
      "image/png": "[encoded data removed]",
      "text/plain": [
       "<Figure size 1200x600 with 1 Axes>"
      ]
     },
     "metadata": {},
     "output_type": "display_data"
    }
   ],
   "source": [
    "plt.figure(figsize=(12, 6))\n",
    "\n",
    "plt.plot(final['date'], invspy_single, label=\"Portfolio with Single Investment\", color='green', linestyle='--', linewidth=2)\n",
    "\n",
    "plt.title(\"Portfolio Value With No Contribution (2025 - 2044)\", fontsize=16)\n",
    "plt.xlabel(\"Date\", fontsize=14)\n",
    "plt.ylabel(\"Portfolio Value (USD)\", fontsize=14)\n",
    "\n",
    "plt.grid(alpha=0.3)\n",
    "plt.legend(fontsize=12)\n",
    "plt.tight_layout()\n",
    "plt.show()"
   ]
  },
  {
   "cell_type": "code",
   "execution_count": 12,
   "id": "d2e26313-9517-4c91-9ae9-b84b13b2c008",
   "metadata": {
    "execution": {
     "iopub.execute_input": "2025-01-02T10:25:23.451281Z",
     "iopub.status.busy": "2025-01-02T10:25:23.451281Z",
     "iopub.status.idle": "2025-01-02T10:25:23.459828Z",
     "shell.execute_reply": "2025-01-02T10:25:23.459828Z",
     "shell.execute_reply.started": "2025-01-02T10:25:23.451281Z"
    }
   },
   "outputs": [
    {
     "name": "stdout",
     "output_type": "stream",
     "text": [
      "Portfolio Value in December 2044: $1,735,124.27\n"
     ]
    }
   ],
   "source": [
    "contribution_schedule = {\n",
    "    '2025-01-01': 500,\n",
    "    '2027-01-01': 1000,\n",
    "    '2029-01-01': 1500,\n",
    "    '2031-01-01': 2000\n",
    "}\n",
    "\n",
    "contribution_schedule = {pd.to_datetime(date): amount for date, amount in contribution_schedule.items()}\n",
    "\n",
    "# Portfolio value tracker\n",
    "invspy_dca = [initial_investment]\n",
    "\n",
    "# Loop through forecasted data\n",
    "for i in range(1, len(final)):\n",
    "    date = final['date'].iloc[i]\n",
    "    previous_value = invspy_dca[-1]\n",
    "    \n",
    "    growth_factor = final['forecast'].iloc[i] / final['forecast'].iloc[i - 1]\n",
    "    new_value = previous_value * growth_factor  \n",
    "    \n",
    "    additional_contribution = sum(amount for contrib_date, amount in contribution_schedule.items() if contrib_date <= date)\n",
    "    new_value += additional_contribution  #\n",
    "    \n",
    "    invspy_dca.append(new_value)\n",
    "\n",
    "final_portfolio_value = invspy_dca[-1]\n",
    "\n",
    "print(f\"Portfolio Value in December 2044: ${final_portfolio_value:,.2f}\")"
   ]
  },
  {
   "cell_type": "code",
   "execution_count": 13,
   "id": "2fa04d93-15ce-4396-9db3-bed711283f0b",
   "metadata": {
    "execution": {
     "iopub.execute_input": "2025-01-02T10:25:23.459828Z",
     "iopub.status.busy": "2025-01-02T10:25:23.459828Z",
     "iopub.status.idle": "2025-01-02T10:25:23.465676Z",
     "shell.execute_reply": "2025-01-02T10:25:23.465676Z",
     "shell.execute_reply.started": "2025-01-02T10:25:23.459828Z"
    }
   },
   "outputs": [
    {
     "name": "stdout",
     "output_type": "stream",
     "text": [
      "Total Amount Invested: $414,000.00\n"
     ]
    }
   ],
   "source": [
    "total_contributions = 0\n",
    "current_contribution = contribution_schedule[min(contribution_schedule.keys())]  # Start with the first contribution\n",
    "\n",
    "for i in range(1, len(final)):\n",
    "    date = final['date'].iloc[i]\n",
    "    total_contributions += current_contribution\n",
    "    \n",
    "    # Update contribution amount based on schedule\n",
    "    for start_date, contribution in contribution_schedule.items():\n",
    "        if date >= pd.to_datetime(start_date):\n",
    "            current_contribution = contribution\n",
    "\n",
    "total_invested = total_contributions + initial_investment\n",
    "\n",
    "print(f\"Total Amount Invested: ${total_invested:,.2f}\")"
   ]
  },
  {
   "cell_type": "code",
   "execution_count": 28,
   "id": "4ab40701-15f5-4c8b-b8d8-2c8c27a98374",
   "metadata": {
    "execution": {
     "iopub.execute_input": "2025-01-02T10:25:41.908301Z",
     "iopub.status.busy": "2025-01-02T10:25:41.908301Z",
     "iopub.status.idle": "2025-01-02T10:25:42.012923Z",
     "shell.execute_reply": "2025-01-02T10:25:42.012923Z",
     "shell.execute_reply.started": "2025-01-02T10:25:41.908301Z"
    }
   },
   "outputs": [
    {
     "data": {
      "image/png": "[encoded data removed]",
      "text/plain": [
       "<Figure size 1200x600 with 1 Axes>"
      ]
     },
     "metadata": {},
     "output_type": "display_data"
    }
   ],
   "source": [
    "plt.figure(figsize=(12, 6))\n",
    "plt.plot(final['date'], invspy_dca, label=\"Portfolio Value\", color='blue', linewidth=2)\n",
    "\n",
    "plt.title(\"Portfolio Value with Contribution (2025 - 2044)\", fontsize=16)\n",
    "plt.xlabel(\"Date\", fontsize=14)\n",
    "plt.ylabel(\"Portfolio Value (USD - Millions)\", fontsize=14)\n",
    "\n",
    "plt.grid(alpha=0.3)\n",
    "plt.legend(fontsize=12)\n",
    "plt.tight_layout()\n",
    "\n",
    "plt.show()"
   ]
  }
 ],
 "metadata": {
  "kernelspec": {
   "display_name": "Python 3 (ipykernel)",
   "language": "python",
   "name": "python3"
  },
  "language_info": {
   "codemirror_mode": {
    "name": "ipython",
    "version": 3
   },
   "file_extension": ".py",
   "mimetype": "text/x-python",
   "name": "python",
   "nbconvert_exporter": "python",
   "pygments_lexer": "ipython3",
   "version": "3.11.9"
  }
 },
 "nbformat": 4,
 "nbformat_minor": 5
}
